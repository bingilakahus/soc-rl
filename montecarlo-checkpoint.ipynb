{
 "cells": [
  {
   "cell_type": "code",
   "execution_count": 1,
   "id": "92a58342",
   "metadata": {},
   "outputs": [],
   "source": [
    "import gymnasium as gym\n",
    "import random\n",
    "import numpy as np\n",
    "import matplotlib.pyplot as plt"
   ]
  },
  {
   "cell_type": "code",
   "execution_count": 2,
   "id": "1a301e01",
   "metadata": {},
   "outputs": [
    {
     "name": "stderr",
     "output_type": "stream",
     "text": [
      "C:\\Users\\rohan\\AppData\\Local\\Programs\\Python\\Python311\\Lib\\site-packages\\gymnasium\\envs\\toy_text\\taxi.py:314: UserWarning: \u001b[33mWARN: You are calling render method without specifying any render mode. You can specify the render_mode at initialization, e.g. gym.make(\"Taxi-v3\", render_mode=\"rgb_array\")\u001b[0m\n",
      "  gym.logger.warn(\n"
     ]
    }
   ],
   "source": [
    "env = gym.make('Taxi-v3')\n",
    "env.reset()\n",
    "env.render()"
   ]
  },
  {
   "cell_type": "code",
   "execution_count": 3,
   "id": "205dea7c",
   "metadata": {},
   "outputs": [
    {
     "name": "stdout",
     "output_type": "stream",
     "text": [
      "[[0. 0. 0. 0. 0. 0.]\n",
      " [0. 0. 0. 0. 0. 0.]\n",
      " [0. 0. 0. 0. 0. 0.]\n",
      " ...\n",
      " [0. 0. 0. 0. 0. 0.]\n",
      " [0. 0. 0. 0. 0. 0.]\n",
      " [0. 0. 0. 0. 0. 0.]]\n"
     ]
    }
   ],
   "source": [
    "num_rows = env.observation_space.n\n",
    "num_columns = env.action_space.n\n",
    "qtable = np.zeros((num_rows,num_columns))\n",
    "print(qtable)"
   ]
  },
  {
   "cell_type": "code",
   "execution_count": 8,
   "id": "59396a83",
   "metadata": {},
   "outputs": [],
   "source": [
    "#hyperparameters\n",
    "episodes = 5000\n",
    "alpha = 0.4 #learning rate\n",
    "gamma = 0.9 #discount factor\n",
    "epsilon = 0.6 #exploration factor"
   ]
  },
  {
   "cell_type": "code",
   "execution_count": 9,
   "id": "1bd41150",
   "metadata": {},
   "outputs": [
    {
     "name": "stdout",
     "output_type": "stream",
     "text": [
      "Qtable after reaching the end of training: \n",
      "\n",
      "[[  0.           0.           0.           0.           0.\n",
      "    0.        ]\n",
      " [-21.4811118  -19.38053293 -19.99998654 -21.44440591 -23.43480947\n",
      "  -25.33773655]\n",
      " [-24.85744132 -24.11499335 -28.12836495 -23.61643018 -20.13971451\n",
      "  -29.20667408]\n",
      " ...\n",
      " [-19.79413573 -22.970707   -17.98983717 -23.50943731 -29.43957441\n",
      "  -31.23412902]\n",
      " [-20.90268837 -24.20591711 -32.3799296  -17.01984494 -27.41531372\n",
      "  -34.81387855]\n",
      " [ -7.84092599  -3.03300486 -18.42193998 -14.3912934  -32.20138655\n",
      "  -19.72379613]]\n"
     ]
    }
   ],
   "source": [
    "outcomes = []\n",
    "\n",
    "# going through episodes:\n",
    "for epi in range(episodes):\n",
    "    state = env.reset()\n",
    "    state = state[0]\n",
    "    done = False\n",
    "\n",
    "    # initialize an empty episode list\n",
    "    episode = []\n",
    "\n",
    "    while not done:\n",
    "        # choose action between random or most beneficial\n",
    "        if np.random.uniform(0, 1) < epsilon:\n",
    "            action = env.action_space.sample()\n",
    "        else:\n",
    "            action = np.argmax(qtable[state])\n",
    "\n",
    "        # take action and observe new state and reward\n",
    "        new_state, reward, truncated, terminated, info = env.step(action)\n",
    "\n",
    "        # append (state, action, reward) to the episode\n",
    "        episode.append((state, action, reward))\n",
    "\n",
    "        done = truncated or terminated\n",
    "\n",
    "        # update current state\n",
    "        state = new_state\n",
    "\n",
    "    # calculate returns for each (state, action) pair in the episode\n",
    "    returns = 0\n",
    "    for t in range(len(episode) - 1, -1, -1):\n",
    "        state_t, action_t, reward_t = episode[t]\n",
    "        returns = gamma * returns + reward_t\n",
    "        # if (state_t, action_t) is not visited earlier in the episode\n",
    "        if not any((state_t, action_t) == x[0:2] for x in episode[0:t]):\n",
    "            # update Q-value for (state_t, action_t)\n",
    "            qtable[state_t, action_t] += alpha * (returns - qtable[state_t, action_t])\n",
    "\n",
    "    # update outcome based on the final reward\n",
    "    if reward == 20:\n",
    "        outcomes.append(\"Successful\")\n",
    "    else:\n",
    "        outcomes.append(\"Failure\")\n",
    "\n",
    "print(\"Qtable after reaching the end of training: \\n\")\n",
    "print(qtable)"
   ]
  },
  {
   "cell_type": "code",
   "execution_count": 10,
   "id": "25bd6d71",
   "metadata": {},
   "outputs": [
    {
     "data": {
      "image/png": "[encoded data removed]",
      "text/plain": [
       "<Figure size 1200x500 with 1 Axes>"
      ]
     },
     "metadata": {},
     "output_type": "display_data"
    }
   ],
   "source": [
    "plt.figure(figsize=(12,5))\n",
    "plt.xlabel(\"Episode Number\")\n",
    "plt.ylabel(\"Outcome\")\n",
    "ax = plt.gca()\n",
    "ax.set_facecolor('#efeeea')\n",
    "plt.bar(range(len(outcomes)),outcomes,color=\"black\",width = 1)\n",
    "plt.show()"
   ]
  },
  {
   "cell_type": "code",
   "execution_count": null,
   "id": "469d6452",
   "metadata": {},
   "outputs": [],
   "source": []
  }
 ],
 "metadata": {
  "kernelspec": {
   "display_name": "Python 3 (ipykernel)",
   "language": "python",
   "name": "python3"
  },
  "language_info": {
   "codemirror_mode": {
    "name": "ipython",
    "version": 3
   },
   "file_extension": ".py",
   "mimetype": "text/x-python",
   "name": "python",
   "nbconvert_exporter": "python",
   "pygments_lexer": "ipython3",
   "version": "3.11.3"
  }
 },
 "nbformat": 4,
 "nbformat_minor": 5
}
